{
  "cells": [
    {
      "cell_type": "code",
      "execution_count": null,
      "metadata": {
        "colab": {
          "base_uri": "https://localhost:8080/"
        },
        "id": "98eqecjbkw6Q",
        "outputId": "41de7366-6d37-43c6-893a-b2072c7d6c19"
      },
      "outputs": [
        {
          "name": "stdout",
          "output_type": "stream",
          "text": [
            "hello world\n"
          ]
        }
      ],
      "source": [
        "print(\"hello world\")"
      ]
    },
    {
      "cell_type": "code",
      "execution_count": null,
      "metadata": {
        "id": "SPIAbG63lgOK"
      },
      "outputs": [],
      "source": [
        "str alphabet,decimal,number(\"nihal\",\"16\",\"2.00\")\n",
        "int number (78)\n",
        "float decimal (12.8)\n",
        "boolean true,false"
      ]
    },
    {
      "cell_type": "code",
      "execution_count": null,
      "metadata": {
        "colab": {
          "base_uri": "https://localhost:8080/"
        },
        "id": "hdjphMAcmV9s",
        "outputId": "6b35108a-e8eb-4182-cd68-25bd41e7af5e"
      },
      "outputs": [
        {
          "name": "stdout",
          "output_type": "stream",
          "text": [
            "<class 'str'>\n",
            "<class 'str'>\n",
            "hello world\n",
            "<class 'str'>\n"
          ]
        }
      ],
      "source": [
        "#str:\n",
        "print(type(\"hello world\"))\n",
        "print(type(\"16\"))\n",
        "print(\"hello world\")\n",
        "print(type(\"5.00\"))"
      ]
    },
    {
      "cell_type": "code",
      "execution_count": null,
      "metadata": {
        "colab": {
          "base_uri": "https://localhost:8080/"
        },
        "id": "yyX73e1KnICA",
        "outputId": "1b64e06e-1f2c-42ae-f772-ee6e7c5bd7fd"
      },
      "outputs": [
        {
          "name": "stdout",
          "output_type": "stream",
          "text": [
            "<class 'int'>\n",
            "<class 'str'>\n"
          ]
        }
      ],
      "source": [
        "#int:\n",
        "print(type(6))\n",
        "print(type(\"16\"))"
      ]
    },
    {
      "cell_type": "code",
      "execution_count": null,
      "metadata": {
        "colab": {
          "base_uri": "https://localhost:8080/"
        },
        "id": "ifWAIC6xnYbx",
        "outputId": "98579735-dd5b-4c76-fee2-f3f726acd138"
      },
      "outputs": [
        {
          "name": "stdout",
          "output_type": "stream",
          "text": [
            "<class 'float'>\n"
          ]
        }
      ],
      "source": [
        "#float:\n",
        "print(type(12.9))"
      ]
    },
    {
      "cell_type": "code",
      "execution_count": null,
      "metadata": {
        "colab": {
          "base_uri": "https://localhost:8080/"
        },
        "id": "kgcYL5h5oeWL",
        "outputId": "e4ba737a-a621-4cf4-c1f1-5e463f1602bc"
      },
      "outputs": [
        {
          "name": "stdout",
          "output_type": "stream",
          "text": [
            "<class 'bool'>\n",
            "False\n"
          ]
        }
      ],
      "source": [
        "#boolean:\n",
        "print(type(True))\n",
        "print(False)"
      ]
    },
    {
      "cell_type": "code",
      "execution_count": null,
      "metadata": {
        "id": "oeX3-SCMpAtJ"
      },
      "outputs": [],
      "source": []
    }
  ],
  "metadata": {
    "accelerator": "GPU",
    "colab": {
      "gpuType": "T4",
      "provenance": []
    },
    "kernelspec": {
      "display_name": "Python 3",
      "name": "python3"
    },
    "language_info": {
      "name": "python"
    }
  },
  "nbformat": 4,
  "nbformat_minor": 0
}